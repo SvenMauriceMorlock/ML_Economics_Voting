{
 "cells": [
  {
   "cell_type": "markdown",
   "metadata": {},
   "source": [
    " This project contains voting data provided by [YouGov](https://www.voterstudygroup.org/publication/2019-voter-survey-full-data-set) which contains information on peronal characteristics and answers to survey questions. Most of the surveyed people participated in ealrier surveys available on the companies hompage.<br>\n",
    "This project tough only focuses on the cross-section. Extensions are possible. <br>\n",
    "Since the survey contains questions and personal characteristics in dimensions greater than 1000 the aim of this project is to twofold: <br>\n",
    "First to reduce the dimension in order to obtain voter categories determined by a small number of parameters. <br>\n",
    "Second to check wheter membership to a cretain group can reliable predict voting behavior."
   ]
  },
  {
   "cell_type": "code",
   "execution_count": 50,
   "metadata": {},
   "outputs": [],
   "source": [
    "options(messages = -1) # does not include errors and warnings\n",
    "library(tidyverse)\n",
    "library(data.table)\n",
    "# library(glmnet) # LASSO\n",
    "library(factoextra) # PCA\n",
    "library(nnet)\n",
    "library(ade4)"
   ]
  },
  {
   "cell_type": "code",
   "execution_count": 51,
   "metadata": {},
   "outputs": [],
   "source": [
    "path_sven <- \"~/06_data/VOTER_Survey_Jan217_Release1-csv.csv\"\n",
    "data <- read.csv(file = path_sven, header = TRUE, sep = \",\")\n",
    "#head(data)\n",
    "#str(data)"
   ]
  },
  {
   "cell_type": "markdown",
   "metadata": {},
   "source": [
    "the data set contains 1282 variables where the first 11 columns are population weights and not of interest in further analysis."
   ]
  },
  {
   "cell_type": "markdown",
   "metadata": {},
   "source": [
    "# 1. Data Cleaning"
   ]
  },
  {
   "cell_type": "markdown",
   "metadata": {},
   "source": [
    "Since the dataset contains quite a lot of variables in further analysis we will focus on only a subset for reasons of tractability"
   ]
  },
  {
   "cell_type": "code",
   "execution_count": null,
   "metadata": {},
   "outputs": [],
   "source": []
  },
  {
   "cell_type": "code",
   "execution_count": 68,
   "metadata": {},
   "outputs": [
    {
     "data": {
      "text/html": [
       "<table class=\"dataframe\">\n",
       "<caption>A data.frame: 6 × 866</caption>\n",
       "<thead>\n",
       "\t<tr><th></th><th scope=col>vote2020_2019</th><th scope=col>trumpapp_2019</th><th scope=col>fav_trump_2019</th><th scope=col>fav_obama_2019</th><th scope=col>fav_hrc_2019</th><th scope=col>fav_sanders_2019</th><th scope=col>fav_putin_2019</th><th scope=col>fav_schumer_2019</th><th scope=col>fav_pelosi_2019</th><th scope=col>fav_comey_2019</th><th scope=col>⋯</th><th scope=col>phone_baseline</th><th scope=col>faminc_baseline</th><th scope=col>cand_baseline</th><th scope=col>cdid_baseline</th><th scope=col>demnom2_baseline</th><th scope=col>demnom_t_baseline</th><th scope=col>izip_baseline</th><th scope=col>lookupzip_baseline</th><th scope=col>prim12_baseline</th><th scope=col>statefips_baseline</th></tr>\n",
       "\t<tr><th></th><th scope=col>&lt;int&gt;</th><th scope=col>&lt;int&gt;</th><th scope=col>&lt;int&gt;</th><th scope=col>&lt;int&gt;</th><th scope=col>&lt;int&gt;</th><th scope=col>&lt;int&gt;</th><th scope=col>&lt;int&gt;</th><th scope=col>&lt;int&gt;</th><th scope=col>&lt;int&gt;</th><th scope=col>&lt;int&gt;</th><th scope=col>⋯</th><th scope=col>&lt;int&gt;</th><th scope=col>&lt;int&gt;</th><th scope=col>&lt;int&gt;</th><th scope=col>&lt;fct&gt;</th><th scope=col>&lt;int&gt;</th><th scope=col>&lt;fct&gt;</th><th scope=col>&lt;fct&gt;</th><th scope=col>&lt;fct&gt;</th><th scope=col>&lt;int&gt;</th><th scope=col>&lt;fct&gt;</th></tr>\n",
       "</thead>\n",
       "<tbody>\n",
       "\t<tr><th scope=row>1</th><td> 2</td><td> 4</td><td> 4</td><td> 1</td><td> 1</td><td> 1</td><td> 4</td><td> 1</td><td> 1</td><td> 1</td><td>⋯</td><td>1</td><td> 6</td><td>258342</td><td>03</td><td>1</td><td>               </td><td>89052</td><td>89052</td><td>1</td><td>32</td></tr>\n",
       "\t<tr><th scope=row>2</th><td>NA</td><td>NA</td><td>NA</td><td>NA</td><td>NA</td><td>NA</td><td>NA</td><td>NA</td><td>NA</td><td>NA</td><td>⋯</td><td>1</td><td> 8</td><td>317635</td><td>6 </td><td>3</td><td>               </td><td>85298</td><td>85298</td><td>2</td><td>04</td></tr>\n",
       "\t<tr><th scope=row>3</th><td> 2</td><td> 4</td><td> 4</td><td> 1</td><td> 1</td><td> 2</td><td> 4</td><td> 1</td><td> 1</td><td> 1</td><td>⋯</td><td>1</td><td> 5</td><td>102825</td><td>6 </td><td>2</td><td>Hillery Clinton</td><td>54904</td><td>54904</td><td>1</td><td>55</td></tr>\n",
       "\t<tr><th scope=row>4</th><td> 2</td><td> 4</td><td> 4</td><td> 1</td><td> 4</td><td> 4</td><td> 4</td><td> 3</td><td> 3</td><td> 2</td><td>⋯</td><td>1</td><td> 9</td><td> 45897</td><td>1 </td><td>1</td><td>               </td><td>74104</td><td>74104</td><td>3</td><td>40</td></tr>\n",
       "\t<tr><th scope=row>5</th><td> 1</td><td> 2</td><td> 2</td><td> 2</td><td> 4</td><td> 3</td><td> 3</td><td> 4</td><td> 4</td><td> 4</td><td>⋯</td><td>1</td><td>10</td><td>330742</td><td>21</td><td>3</td><td>               </td><td>78148</td><td>78148</td><td>2</td><td>48</td></tr>\n",
       "\t<tr><th scope=row>6</th><td> 2</td><td> 4</td><td> 4</td><td> 1</td><td> 1</td><td> 3</td><td> 4</td><td> 2</td><td> 1</td><td> 2</td><td>⋯</td><td>3</td><td> 4</td><td>101855</td><td>12</td><td>1</td><td>               </td><td>94061</td><td>94061</td><td>1</td><td>06</td></tr>\n",
       "</tbody>\n",
       "</table>\n"
      ],
      "text/latex": [
       "A data.frame: 6 × 866\n",
       "\\begin{tabular}{r|lllllllllllllllllllll}\n",
       "  & vote2020\\_2019 & trumpapp\\_2019 & fav\\_trump\\_2019 & fav\\_obama\\_2019 & fav\\_hrc\\_2019 & fav\\_sanders\\_2019 & fav\\_putin\\_2019 & fav\\_schumer\\_2019 & fav\\_pelosi\\_2019 & fav\\_comey\\_2019 & ⋯ & phone\\_baseline & faminc\\_baseline & cand\\_baseline & cdid\\_baseline & demnom2\\_baseline & demnom\\_t\\_baseline & izip\\_baseline & lookupzip\\_baseline & prim12\\_baseline & statefips\\_baseline\\\\\n",
       "  & <int> & <int> & <int> & <int> & <int> & <int> & <int> & <int> & <int> & <int> & ⋯ & <int> & <int> & <int> & <fct> & <int> & <fct> & <fct> & <fct> & <int> & <fct>\\\\\n",
       "\\hline\n",
       "\t1 &  2 &  4 &  4 &  1 &  1 &  1 &  4 &  1 &  1 &  1 & ⋯ & 1 &  6 & 258342 & 03 & 1 &                 & 89052 & 89052 & 1 & 32\\\\\n",
       "\t2 & NA & NA & NA & NA & NA & NA & NA & NA & NA & NA & ⋯ & 1 &  8 & 317635 & 6  & 3 &                 & 85298 & 85298 & 2 & 04\\\\\n",
       "\t3 &  2 &  4 &  4 &  1 &  1 &  2 &  4 &  1 &  1 &  1 & ⋯ & 1 &  5 & 102825 & 6  & 2 & Hillery Clinton & 54904 & 54904 & 1 & 55\\\\\n",
       "\t4 &  2 &  4 &  4 &  1 &  4 &  4 &  4 &  3 &  3 &  2 & ⋯ & 1 &  9 &  45897 & 1  & 1 &                 & 74104 & 74104 & 3 & 40\\\\\n",
       "\t5 &  1 &  2 &  2 &  2 &  4 &  3 &  3 &  4 &  4 &  4 & ⋯ & 1 & 10 & 330742 & 21 & 3 &                 & 78148 & 78148 & 2 & 48\\\\\n",
       "\t6 &  2 &  4 &  4 &  1 &  1 &  3 &  4 &  2 &  1 &  2 & ⋯ & 3 &  4 & 101855 & 12 & 1 &                 & 94061 & 94061 & 1 & 06\\\\\n",
       "\\end{tabular}\n"
      ],
      "text/markdown": [
       "\n",
       "A data.frame: 6 × 866\n",
       "\n",
       "| <!--/--> | vote2020_2019 &lt;int&gt; | trumpapp_2019 &lt;int&gt; | fav_trump_2019 &lt;int&gt; | fav_obama_2019 &lt;int&gt; | fav_hrc_2019 &lt;int&gt; | fav_sanders_2019 &lt;int&gt; | fav_putin_2019 &lt;int&gt; | fav_schumer_2019 &lt;int&gt; | fav_pelosi_2019 &lt;int&gt; | fav_comey_2019 &lt;int&gt; | ⋯ ⋯ | phone_baseline &lt;int&gt; | faminc_baseline &lt;int&gt; | cand_baseline &lt;int&gt; | cdid_baseline &lt;fct&gt; | demnom2_baseline &lt;int&gt; | demnom_t_baseline &lt;fct&gt; | izip_baseline &lt;fct&gt; | lookupzip_baseline &lt;fct&gt; | prim12_baseline &lt;int&gt; | statefips_baseline &lt;fct&gt; |\n",
       "|---|---|---|---|---|---|---|---|---|---|---|---|---|---|---|---|---|---|---|---|---|---|\n",
       "| 1 |  2 |  4 |  4 |  1 |  1 |  1 |  4 |  1 |  1 |  1 | ⋯ | 1 |  6 | 258342 | 03 | 1 | <!----> | 89052 | 89052 | 1 | 32 |\n",
       "| 2 | NA | NA | NA | NA | NA | NA | NA | NA | NA | NA | ⋯ | 1 |  8 | 317635 | 6  | 3 | <!----> | 85298 | 85298 | 2 | 04 |\n",
       "| 3 |  2 |  4 |  4 |  1 |  1 |  2 |  4 |  1 |  1 |  1 | ⋯ | 1 |  5 | 102825 | 6  | 2 | Hillery Clinton | 54904 | 54904 | 1 | 55 |\n",
       "| 4 |  2 |  4 |  4 |  1 |  4 |  4 |  4 |  3 |  3 |  2 | ⋯ | 1 |  9 |  45897 | 1  | 1 | <!----> | 74104 | 74104 | 3 | 40 |\n",
       "| 5 |  1 |  2 |  2 |  2 |  4 |  3 |  3 |  4 |  4 |  4 | ⋯ | 1 | 10 | 330742 | 21 | 3 | <!----> | 78148 | 78148 | 2 | 48 |\n",
       "| 6 |  2 |  4 |  4 |  1 |  1 |  3 |  4 |  2 |  1 |  2 | ⋯ | 3 |  4 | 101855 | 12 | 1 | <!----> | 94061 | 94061 | 1 | 06 |\n",
       "\n"
      ],
      "text/plain": [
       "  vote2020_2019 trumpapp_2019 fav_trump_2019 fav_obama_2019 fav_hrc_2019\n",
       "1  2             4             4              1              1          \n",
       "2 NA            NA            NA             NA             NA          \n",
       "3  2             4             4              1              1          \n",
       "4  2             4             4              1              4          \n",
       "5  1             2             2              2              4          \n",
       "6  2             4             4              1              1          \n",
       "  fav_sanders_2019 fav_putin_2019 fav_schumer_2019 fav_pelosi_2019\n",
       "1  1                4              1                1             \n",
       "2 NA               NA             NA               NA             \n",
       "3  2                4              1                1             \n",
       "4  4                4              3                3             \n",
       "5  3                3              4                4             \n",
       "6  3                4              2                1             \n",
       "  fav_comey_2019 ⋯ phone_baseline faminc_baseline cand_baseline cdid_baseline\n",
       "1  1             ⋯ 1               6              258342        03           \n",
       "2 NA             ⋯ 1               8              317635        6            \n",
       "3  1             ⋯ 1               5              102825        6            \n",
       "4  2             ⋯ 1               9               45897        1            \n",
       "5  4             ⋯ 1              10              330742        21           \n",
       "6  2             ⋯ 3               4              101855        12           \n",
       "  demnom2_baseline demnom_t_baseline izip_baseline lookupzip_baseline\n",
       "1 1                                  89052         89052             \n",
       "2 3                                  85298         85298             \n",
       "3 2                Hillery Clinton   54904         54904             \n",
       "4 1                                  74104         74104             \n",
       "5 3                                  78148         78148             \n",
       "6 1                                  94061         94061             \n",
       "  prim12_baseline statefips_baseline\n",
       "1 1               32                \n",
       "2 2               04                \n",
       "3 1               55                \n",
       "4 3               40                \n",
       "5 2               48                \n",
       "6 1               06                "
      ]
     },
     "metadata": {},
     "output_type": "display_data"
    }
   ],
   "source": [
    "# weights not of interest\n",
    "weight_idx <- grepl(\".*weight.*\", colnames(data)) \n",
    "data <- data[,!weight_idx]\n",
    "# name of candidate not of interest\n",
    "name_idx <- grepl(\".*Cand.Name.*\", colnames(data)) \n",
    "data <- data[,!name_idx]\n",
    "# response to july 2017 survey\n",
    "survey2017_idx <- grepl(\".*_2017\", colnames(data)) \n",
    "data <- data[,!survey2017_idx]\n",
    "#response to may 2018 survey\n",
    "survey2018_idx <- grepl(\".*_2018\", colnames(data)) \n",
    "data <- data[,!survey2018_idx]\n",
    "# cassfullcd\n",
    "cassfullcd_idx <- grepl(\"cassfullcd\", colnames(data))\n",
    "data <- data[,!cassfullcd_idx]\n",
    "# to be continued\n",
    "\n",
    "# only democrat and republicans\n",
    "data <- subset(data, data$vote2020_2019 == 1 |data$vote2020_2019 == 2 )"
   ]
  },
  {
   "cell_type": "code",
   "execution_count": 69,
   "metadata": {},
   "outputs": [
    {
     "name": "stdout",
     "output_type": "stream",
     "text": [
      " int [1:5896] 2 2 2 1 2 2 2 2 2 2 ...\n"
     ]
    },
    {
     "data": {
      "text/plain": [
       "\n",
       "   1    2 \n",
       "2630 3266 "
      ]
     },
     "metadata": {},
     "output_type": "display_data"
    }
   ],
   "source": [
    "# response variabe of interest\n",
    "# 1 -> Donald Trump\n",
    "# 2 -> Dem\n",
    "# 3 -> no vote\n",
    "# 4 -> not sure\n",
    "# 8 -> skipped\n",
    "\n",
    "# ToDo: filter only rows where either Donald T or Dem voted for\n",
    "\n",
    "str(data$vote2020_2019)\n",
    "table(data$vote2020_2019)\n",
    "y_col <- grep(\"vote2020_2019\", colnames(data)) \n",
    "y <- data[,y_col]\n",
    "y <- factor(y)\n",
    "levels(y) <-  c(\"Donald_Trump\", \"Democrat\", \"No_Vote\", \"Not_Sure\", \"Skipped\")    \n",
    "data <- data[,-y_col]\n",
    "col <- colnames(data)\n",
    "data[col] <- lapply(data[col], as.factor) # due to survey design all variables are factor\n",
    "data <- data.frame(data) # factor -> dummy "
   ]
  },
  {
   "cell_type": "code",
   "execution_count": 48,
   "metadata": {},
   "outputs": [],
   "source": [
    "data_dummy <- acm.disjonctif(data)"
   ]
  },
  {
   "cell_type": "markdown",
   "metadata": {},
   "source": [
    "# 2. "
   ]
  },
  {
   "cell_type": "code",
   "execution_count": 41,
   "metadata": {},
   "outputs": [],
   "source": [
    "set.seed(123)\n",
    "n <- nrow(data)\n",
    "p = ncol(data) - 1\n",
    "ind_train <- sample(x = 1:n, size = ceiling(0.8 * n))\n",
    "set_train <- data[ind_train,]\n",
    "ind_test <- setdiff(x = 1:n, ind_train)\n",
    "set_test <- data[ind_test,]"
   ]
  },
  {
   "cell_type": "code",
   "execution_count": null,
   "metadata": {},
   "outputs": [],
   "source": [
    "# factor => dummy\n"
   ]
  },
  {
   "cell_type": "markdown",
   "metadata": {},
   "source": [
    "# 3. Neural Net"
   ]
  },
  {
   "cell_type": "code",
   "execution_count": 42,
   "metadata": {},
   "outputs": [
    {
     "ename": "ERROR",
     "evalue": "Error in nnet.default(x = data, y = y): missing values in 'x'\n",
     "output_type": "error",
     "traceback": [
      "Error in nnet.default(x = data, y = y): missing values in 'x'\nTraceback:\n",
      "1. nnet::nnet(x = data, y = y)",
      "2. nnet.default(x = data, y = y)",
      "3. stop(\"missing values in 'x'\")"
     ]
    }
   ],
   "source": [
    "nnet::nnet(x = data, y = y)"
   ]
  },
  {
   "cell_type": "markdown",
   "metadata": {},
   "source": [
    "# 4. LASSO"
   ]
  },
  {
   "cell_type": "code",
   "execution_count": 43,
   "metadata": {},
   "outputs": [
    {
     "name": "stderr",
     "output_type": "stream",
     "text": [
      "Warning message in storage.mode(xd) <- \"double\":\n",
      "“NAs introduced by coercion”\n"
     ]
    },
    {
     "ename": "ERROR",
     "evalue": "Error in storage.mode(y) <- \"double\": invalid to change the storage mode of a factor\n",
     "output_type": "error",
     "traceback": [
      "Error in storage.mode(y) <- \"double\": invalid to change the storage mode of a factor\nTraceback:\n",
      "1. glmnet::glmnet(x = as.matrix(data), y = y, alpha = 1)",
      "2. elnet(xd, is.sparse, ix, jx, y, weights, offset, type.gaussian, \n .     alpha, nobs, nvars, jd, vp, cl, ne, nx, nlam, flmin, ulam, \n .     thresh, isd, intr, vnames, maxit)"
     ]
    }
   ],
   "source": [
    "glmnet::glmnet(x = as.matrix(data), y = y, alpha = 1) # Elastic Net with alpha = 1"
   ]
  },
  {
   "cell_type": "markdown",
   "metadata": {},
   "source": [
    "# 5. Latent Drichilet Allocation"
   ]
  },
  {
   "cell_type": "code",
   "execution_count": 10,
   "metadata": {},
   "outputs": [],
   "source": []
  },
  {
   "cell_type": "code",
   "execution_count": 5,
   "metadata": {},
   "outputs": [],
   "source": [
    "options(messages = 1)"
   ]
  }
 ],
 "metadata": {
  "kernelspec": {
   "display_name": "R",
   "language": "R",
   "name": "ir"
  },
  "language_info": {
   "codemirror_mode": "r",
   "file_extension": ".r",
   "mimetype": "text/x-r-source",
   "name": "R",
   "pygments_lexer": "r",
   "version": "3.6.3"
  }
 },
 "nbformat": 4,
 "nbformat_minor": 4
}
