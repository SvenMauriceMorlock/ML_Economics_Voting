{
 "cells": [
  {
   "cell_type": "markdown",
   "metadata": {},
   "source": [
    " This project contains voting data provided by [YouGov](https://www.voterstudygroup.org/publication/2019-voter-survey-full-data-set) which contains information on peronal characteristics and answers to survey questions. Most of the surveyed people participated in ealrier surveys available on the companies hompage.<br>\n",
    "This project tough only focuses on the cross-section. Extensions are possible. <br>\n",
    "Since the survey contains questions and personal characteristics in dimensions greater than 1000 the aim of this project is to twofold: <br>\n",
    "First to reduce the dimension in order to obtain voter categories determined by a small number of parameters. <br>\n",
    "Second to check wheter membership to a cretain group can reliable predict voting behavior."
   ]
  },
  {
   "cell_type": "code",
   "execution_count": 11,
   "metadata": {},
   "outputs": [],
   "source": [
    "library(tidyverse, quietly = TRUE)\n",
    "library(data.table, quietly = TRUE)\n",
    "# library(glmnet) # LASSO\n",
    "library(factoextra, quietly = TRUE) # PCA\n",
    "library(nnet, quietly = TRUE)\n",
    "library(ade4, quietly = TRUE)\n",
    "library(rpart, quietly = TRUE)\n",
    "library(rpart.plot, quietly = TRUE)"
   ]
  },
  {
   "cell_type": "code",
   "execution_count": 12,
   "metadata": {},
   "outputs": [],
   "source": [
    "path_sven <- \"~/06_data/VOTER_Survey_Jan217_Release1-csv.csv\"\n",
    "data <- fread(file = path_sven, header = TRUE, sep = \",\", na.strings = c(\"__NA__\",\".\"), stringsAsFactors = TRUE)"
   ]
  },
  {
   "cell_type": "markdown",
   "metadata": {},
   "source": [
    "the data set contains 1282 variables where the first 11 columns are population weights and not of interest in further analysis."
   ]
  },
  {
   "cell_type": "markdown",
   "metadata": {},
   "source": [
    "# 1. Data Cleaning"
   ]
  },
  {
   "cell_type": "markdown",
   "metadata": {},
   "source": [
    "Since the dataset contains quite a lot of variables in further analysis we will focus on only a subset for reasons of tractability"
   ]
  },
  {
   "cell_type": "code",
   "execution_count": 20,
   "metadata": {},
   "outputs": [],
   "source": [
    "data <- data[vote2020_2019 == 2 | vote2020_2019 == 1] # only Trump or Dem\n",
    "# weights not of interest\n",
    "weight_idx <- grepl(\".*weight.*\", colnames(data)) \n",
    "data <- data[,!weight_idx, with = FALSE]\n",
    "# name of candidate not of interest\n",
    "name_idx <- grepl(\".*Cand.Name.*\", colnames(data)) \n",
    "data <- data[,!name_idx, with = FALSE]\n",
    "# response to july 2017 survey\n",
    "survey2017_idx <- grepl(\".*_2017\", colnames(data)) \n",
    "data <- data[,!survey2017_idx, with = FALSE]\n",
    "#response to may 2018 survey\n",
    "survey2018_idx <- grepl(\".*_2018\", colnames(data)) \n",
    "data <- data[,!survey2018_idx, with = FALSE]\n",
    "# cassfullcd\n",
    "cassfullcd_idx <- grepl(\"cassfullcd\", colnames(data))\n",
    "data <- data[,!cassfullcd_idx, with = FALSE]\n",
    "# send candidate\n",
    "send_idx <- grepl(\"Sen.*\", colnames(data))\n",
    "data <- data[, !send_idx,with = FALSE]"
   ]
  },
  {
   "cell_type": "code",
   "execution_count": 23,
   "metadata": {},
   "outputs": [],
   "source": [
    "drop_names <- c(\"trumpapp_2019\", \"turnout18post_2019\", \"housevote_2019\", \"senatevote_2019\", \"senatevote2_2019\", \"governorvote_2019\",\n",
    "                \"GovCand1Party_2019\", \"GovCand2Party_2019\", \"GovCand3Party_2019\",\n",
    "                \"Clinton_Rubio_rnd_2016\", \"Clinton_Cruz_rnd_2016\", \"Sanders_Trump_rnd_2016\" ,\"post_HouseCand1Party_2012\", \"post_HouseCand2Party_2012\",\n",
    "                \"post_HouseCand3Party_2012\")\n",
    "drop_names_idx <- colnames(data)  %in% drop_names\n",
    "data <- data[, !drop_names_idx,with = FALSE]"
   ]
  },
  {
   "cell_type": "markdown",
   "metadata": {},
   "source": [
    "If there are more than 8 possible answers one could specify a range and 98 indicates \"skipped\"\n",
    "Otherwise 8 was used to refrence to \"skipped\""
   ]
  },
  {
   "cell_type": "code",
   "execution_count": 22,
   "metadata": {},
   "outputs": [],
   "source": [
    "idx_na <- colSums(is.na(data)) > 0\n",
    "data <- data[, !idx_na, with = FALSE]\n",
    "col_names <- colnames(data)\n",
    "for(i in 2:ncol(data)){\n",
    "  if(nlevels(data[[col_names[i]]]) > 8 ){\n",
    "    for(j in 1: nrow(data)){\n",
    "      if(data[[j,i]] == 8){\n",
    "        data[[j,i]] <- NA\n",
    "      }\n",
    "    }\n",
    "  }else{\n",
    "    for(j in 1:nrow(data)){\n",
    "      if(data[[j,i]] == 98){\n",
    "        data[[j,i]] <- NA\n",
    "      }\n",
    "      \n",
    "    }\n",
    "  }\n",
    "}"
   ]
  },
  {
   "cell_type": "code",
   "execution_count": 26,
   "metadata": {},
   "outputs": [],
   "source": [
    "idx_na <- colSums(is.na(data)) > 0\n",
    "data <- data[, !idx_na, with = FALSE]"
   ]
  },
  {
   "cell_type": "markdown",
   "metadata": {},
   "source": [
    "All answers are factor variables due to survey design"
   ]
  },
  {
   "cell_type": "code",
   "execution_count": 27,
   "metadata": {},
   "outputs": [
    {
     "name": "stdout",
     "output_type": "stream",
     "text": [
      "Classes ‘data.table’ and 'data.frame':\t5896 obs. of  152 variables:\n",
      " $ vote2020_2019                 : Factor w/ 2 levels \"1\",\"2\": 2 2 2 1 2 2 2 2 2 2 ...\n",
      " $ add_confirm_2019              : Factor w/ 3 levels \"1\",\"2\",\"9\": 1 1 1 1 1 1 1 3 1 2 ...\n",
      " $ izip_2019                     : Factor w/ 4520 levels \"1001\",\"1020\",..: 4206 2600 3178 3441 4207 1989 197 1477 3754 3057 ...\n",
      " $ votereg_2019                  : Factor w/ 3 levels \"1\",\"2\",\"3\": 1 1 1 1 1 1 1 1 1 1 ...\n",
      " $ votereg_f_2019                : Factor w/ 3 levels \"1\",\"2\",\"9\": 1 1 1 1 1 1 1 1 1 1 ...\n",
      " $ regzip_2019                   : Factor w/ 162 levels \"4358\",\"5770\",..: 162 162 162 162 162 162 162 162 162 162 ...\n",
      " $ region_2019                   : Factor w/ 4 levels \"1\",\"2\",\"3\",\"4\": 4 2 3 3 4 3 1 3 4 2 ...\n",
      " $ inst_court_2019               : Factor w/ 5 levels \"1\",\"2\",\"3\",\"4\",..: 3 3 4 1 3 3 3 2 3 3 ...\n",
      " $ inst_media_2019               : Factor w/ 5 levels \"1\",\"2\",\"3\",\"4\",..: 1 1 1 4 2 4 4 1 1 1 ...\n",
      " $ inst_congress_2019            : Factor w/ 5 levels \"1\",\"2\",\"3\",\"4\",..: 4 4 4 3 4 4 3 3 3 4 ...\n",
      " $ inst_justice_2019             : Factor w/ 5 levels \"1\",\"2\",\"3\",\"4\",..: 3 3 2 3 3 4 3 2 2 1 ...\n",
      " $ inst_FBI_2019                 : Factor w/ 5 levels \"1\",\"2\",\"3\",\"4\",..: 2 1 2 1 3 4 3 1 1 2 ...\n",
      " $ inst_military_2019            : Factor w/ 5 levels \"1\",\"2\",\"3\",\"4\",..: 2 1 1 1 3 2 3 1 2 2 ...\n",
      " $ inst_church_2019              : Factor w/ 5 levels \"1\",\"2\",\"3\",\"4\",..: 4 4 4 1 4 3 4 3 4 3 ...\n",
      " $ inst_business_2019            : Factor w/ 5 levels \"1\",\"2\",\"3\",\"4\",..: 4 3 4 2 4 4 4 4 3 4 ...\n",
      " $ imiss_a_2019                  : Factor w/ 5 levels \"1\",\"2\",\"3\",\"4\",..: 2 1 1 1 2 1 2 2 2 2 ...\n",
      " $ imiss_b_2019                  : Factor w/ 5 levels \"1\",\"2\",\"3\",\"4\",..: 2 1 1 1 2 1 1 1 2 1 ...\n",
      " $ imiss_c_2019                  : Factor w/ 5 levels \"1\",\"2\",\"3\",\"4\",..: 2 1 4 1 2 1 2 3 2 1 ...\n",
      " $ imiss_d_2019                  : Factor w/ 5 levels \"1\",\"2\",\"3\",\"4\",..: 1 1 2 1 1 1 1 1 2 1 ...\n",
      " $ imiss_e_2019                  : Factor w/ 5 levels \"1\",\"2\",\"3\",\"4\",..: 1 2 1 1 1 2 1 2 1 1 ...\n",
      " $ imiss_f_2019                  : Factor w/ 5 levels \"1\",\"2\",\"3\",\"4\",..: 2 1 2 1 2 2 2 2 2 1 ...\n",
      " $ imiss_g_2019                  : Factor w/ 5 levels \"1\",\"2\",\"3\",\"4\",..: 1 2 3 2 1 4 1 1 1 1 ...\n",
      " $ imiss_h_2019                  : Factor w/ 5 levels \"1\",\"2\",\"3\",\"4\",..: 1 1 2 1 2 1 1 1 1 1 ...\n",
      " $ imiss_i_2019                  : Factor w/ 5 levels \"1\",\"2\",\"3\",\"4\",..: 1 2 3 2 3 3 2 1 2 2 ...\n",
      " $ imiss_j_2019                  : Factor w/ 5 levels \"1\",\"2\",\"3\",\"4\",..: 1 1 1 1 1 1 1 1 1 1 ...\n",
      " $ imiss_k_2019                  : Factor w/ 5 levels \"1\",\"2\",\"3\",\"4\",..: 1 1 1 2 1 1 1 1 1 1 ...\n",
      " $ imiss_l_2019                  : Factor w/ 5 levels \"1\",\"2\",\"3\",\"4\",..: 1 1 2 4 1 1 1 1 2 1 ...\n",
      " $ imiss_m_2019                  : Factor w/ 5 levels \"1\",\"2\",\"3\",\"4\",..: 1 1 2 1 1 1 1 1 1 1 ...\n",
      " $ imiss_n_2019                  : Factor w/ 5 levels \"1\",\"2\",\"3\",\"4\",..: 1 1 2 1 2 1 1 1 1 1 ...\n",
      " $ imiss_o_2019                  : Factor w/ 5 levels \"1\",\"2\",\"3\",\"4\",..: 2 1 1 1 2 1 1 1 2 1 ...\n",
      " $ imiss_p_2019                  : Factor w/ 5 levels \"1\",\"2\",\"3\",\"4\",..: 1 1 2 1 3 3 2 2 2 2 ...\n",
      " $ imiss_q_2019                  : Factor w/ 5 levels \"1\",\"2\",\"3\",\"4\",..: 1 1 3 1 2 1 1 1 1 1 ...\n",
      " $ imiss_r_2019                  : Factor w/ 5 levels \"1\",\"2\",\"3\",\"4\",..: 2 1 2 1 2 2 2 2 2 2 ...\n",
      " $ imiss_s_2019                  : Factor w/ 5 levels \"1\",\"2\",\"3\",\"4\",..: 1 1 2 1 1 1 1 1 1 1 ...\n",
      " $ imiss_t_2019                  : Factor w/ 5 levels \"1\",\"2\",\"3\",\"4\",..: 3 2 4 1 1 4 1 1 1 3 ...\n",
      " $ imiss_u_2019                  : Factor w/ 5 levels \"1\",\"2\",\"3\",\"4\",..: 3 1 4 1 3 1 2 3 3 3 ...\n",
      " $ imiss_x_2019                  : Factor w/ 5 levels \"1\",\"2\",\"3\",\"4\",..: 1 1 2 1 1 1 1 1 1 1 ...\n",
      " $ imiss_y_2019                  : Factor w/ 5 levels \"1\",\"2\",\"3\",\"4\",..: 1 1 3 2 1 3 1 1 1 1 ...\n",
      " $ track_2019                    : Factor w/ 4 levels \"1\",\"2\",\"3\",\"8\": 2 2 2 1 2 2 2 2 2 2 ...\n",
      " $ persfinretro_2019             : Factor w/ 5 levels \"1\",\"2\",\"3\",\"4\",..: 2 3 2 1 2 2 2 2 2 3 ...\n",
      " $ econtrend_2019                : Factor w/ 5 levels \"1\",\"2\",\"3\",\"4\",..: 2 3 3 1 3 2 2 3 3 3 ...\n",
      " $ lifetrend_2019                : Factor w/ 5 levels \"1\",\"2\",\"3\",\"4\",..: 2 1 3 1 1 2 3 3 2 2 ...\n",
      " $ trustgovt_2019                : Factor w/ 4 levels \"1\",\"2\",\"3\",\"8\": 3 3 3 3 3 3 3 3 3 3 ...\n",
      " $ emotion1_2019                 : Factor w/ 8 levels \"1\",\"2\",\"3\",\"4\",..: 7 7 7 5 6 6 5 6 7 5 ...\n",
      " $ emotion2_2019                 : Factor w/ 8 levels \"1\",\"2\",\"3\",\"4\",..: 7 7 7 5 6 5 5 6 6 7 ...\n",
      " $ emotion3_2019                 : Factor w/ 8 levels \"1\",\"2\",\"3\",\"4\",..: 7 7 7 6 6 6 7 7 5 5 ...\n",
      " $ emotion4_2019                 : Factor w/ 8 levels \"1\",\"2\",\"3\",\"4\",..: 4 7 7 6 6 7 5 6 6 6 ...\n",
      " $ emotion5_2019                 : Factor w/ 8 levels \"1\",\"2\",\"3\",\"4\",..: 3 7 2 4 2 4 4 3 4 4 ...\n",
      " $ emotion6_2019                 : Factor w/ 8 levels \"1\",\"2\",\"3\",\"4\",..: 4 7 2 5 6 1 7 1 2 2 ...\n",
      " $ taxdoug_2019                  : Factor w/ 3 levels \"1\",\"2\",\"3\": 1 1 1 2 1 1 1 1 1 1 ...\n",
      " $ CR_touch_2019                 : Factor w/ 5 levels \"1\",\"2\",\"3\",\"4\",..: 2 4 4 4 1 4 2 4 4 4 ...\n",
      " $ CR_careA_2019                 : Factor w/ 5 levels \"1\",\"2\",\"3\",\"4\",..: 1 3 4 3 1 3 1 2 3 3 ...\n",
      " $ CR_careB_2019                 : Factor w/ 5 levels \"1\",\"2\",\"3\",\"4\",..: 1 1 1 1 1 1 1 1 1 1 ...\n",
      " $ CR_careC_2019                 : Factor w/ 5 levels \"1\",\"2\",\"3\",\"4\",..: 1 1 1 1 1 1 2 1 1 1 ...\n",
      " $ CR_careD_2019                 : Factor w/ 5 levels \"1\",\"2\",\"3\",\"4\",..: 2 3 3 3 1 4 1 4 4 3 ...\n",
      " $ CR_careE_2019                 : Factor w/ 5 levels \"1\",\"2\",\"3\",\"4\",..: 2 4 2 2 1 3 1 4 3 3 ...\n",
      " $ CR_careF_2019                 : Factor w/ 5 levels \"1\",\"2\",\"3\",\"4\",..: 1 1 1 1 1 1 2 1 1 1 ...\n",
      " $ CR_careG_2019                 : Factor w/ 5 levels \"1\",\"2\",\"3\",\"4\",..: 1 1 1 1 1 1 1 1 2 2 ...\n",
      " $ CR_careH_2019                 : Factor w/ 5 levels \"1\",\"2\",\"3\",\"4\",..: 2 4 3 3 1 4 2 4 4 3 ...\n",
      " $ supreme1_2019                 : Factor w/ 6 levels \"1\",\"2\",\"3\",\"4\",..: 1 1 4 4 1 2 1 2 1 2 ...\n",
      " $ supreme2_2019                 : Factor w/ 6 levels \"1\",\"2\",\"3\",\"4\",..: 4 3 4 4 1 4 2 3 1 2 ...\n",
      " $ bankrich_2019                 : Factor w/ 159 levels \"-8\",\"0\",\"1\",\"2\",..: 106 91 91 112 106 118 106 127 91 112 ...\n",
      " $ imp_poor1_2019                : Factor w/ 6 levels \"1\",\"2\",\"3\",\"4\",..: 5 2 4 3 3 5 4 3 5 4 ...\n",
      " $ imp_poor2_2019                : Factor w/ 6 levels \"1\",\"2\",\"3\",\"4\",..: 2 1 1 4 2 1 1 2 1 1 ...\n",
      " $ imp_poor3_2019                : Factor w/ 6 levels \"1\",\"2\",\"3\",\"4\",..: 1 2 1 3 2 2 1 1 1 2 ...\n",
      " $ imp_poor4_2019                : Factor w/ 6 levels \"1\",\"2\",\"3\",\"4\",..: 5 4 2 2 3 4 4 4 4 3 ...\n",
      " $ imp_poor5_2019                : Factor w/ 6 levels \"1\",\"2\",\"3\",\"4\",..: 4 3 4 2 3 4 2 3 3 3 ...\n",
      " $ imp_poor6_2019                : Factor w/ 6 levels \"1\",\"2\",\"3\",\"4\",..: 4 1 3 2 2 5 4 2 4 2 ...\n",
      " $ imp_rich1_2019                : Factor w/ 6 levels \"1\",\"2\",\"3\",\"4\",..: 5 2 3 1 2 3 4 1 3 3 ...\n",
      " $ imp_rich2_2019                : Factor w/ 6 levels \"1\",\"2\",\"3\",\"4\",..: 3 2 1 5 2 2 1 1 1 2 ...\n",
      " $ imp_rich3_2019                : Factor w/ 6 levels \"1\",\"2\",\"3\",\"4\",..: 3 1 4 3 2 1 1 1 1 1 ...\n",
      " $ imp_rich4_2019                : Factor w/ 6 levels \"1\",\"2\",\"3\",\"4\",..: 3 2 3 4 2 2 2 1 2 4 ...\n",
      " $ imp_rich5_2019                : Factor w/ 6 levels \"1\",\"2\",\"3\",\"4\",..: 5 1 3 2 3 4 2 2 3 2 ...\n",
      " $ imp_rich6_2019                : Factor w/ 6 levels \"1\",\"2\",\"3\",\"4\",..: 4 2 2 1 3 3 4 2 3 2 ...\n",
      " $ wealth1_2019                  : Factor w/ 5 levels \"1\",\"2\",\"3\",\"4\",..: 1 1 1 2 2 1 1 1 1 1 ...\n",
      " $ wealth2_2019                  : Factor w/ 5 levels \"1\",\"2\",\"3\",\"4\",..: 1 1 3 3 2 2 1 1 1 1 ...\n",
      " $ wealth3_2019                  : Factor w/ 5 levels \"1\",\"2\",\"3\",\"4\",..: 2 2 1 4 2 1 1 2 1 2 ...\n",
      " $ wealth4_2019                  : Factor w/ 5 levels \"1\",\"2\",\"3\",\"4\",..: 3 2 2 1 3 3 3 2 4 4 ...\n",
      " $ wealth5_2019                  : Factor w/ 5 levels \"1\",\"2\",\"3\",\"4\",..: 3 2 2 1 2 2 2 2 3 3 ...\n",
      " $ wealth6_2019                  : Factor w/ 5 levels \"1\",\"2\",\"3\",\"4\",..: 2 1 1 1 3 3 2 2 2 2 ...\n",
      " $ corp_2019                     : Factor w/ 3 levels \"1\",\"2\",\"8\": 2 2 2 1 2 2 2 1 2 2 ...\n",
      " $ corp_feel_2019                : Factor w/ 3 levels \"1\",\"2\",\"8\": 2 1 1 1 1 1 1 2 1 2 ...\n",
      " $ diff_inc_2019                 : Factor w/ 6 levels \"1\",\"2\",\"3\",\"4\",..: 2 1 1 5 1 2 1 4 1 2 ...\n",
      " $ econ_2019                     : Factor w/ 3 levels \"1\",\"2\",\"8\": 1 1 1 1 1 1 1 1 1 1 ...\n",
      " $ econ_feel_2019                : Factor w/ 3 levels \"1\",\"2\",\"8\": 1 1 1 1 2 1 1 1 1 1 ...\n",
      " $ policy1_2019                  : Factor w/ 6 levels \"1\",\"2\",\"3\",\"4\",..: 2 1 1 3 1 1 1 3 1 1 ...\n",
      " $ policy2_2019                  : Factor w/ 6 levels \"1\",\"2\",\"3\",\"4\",..: 5 5 5 1 4 3 5 5 5 5 ...\n",
      " $ policy3_2019                  : Factor w/ 6 levels \"1\",\"2\",\"3\",\"4\",..: 2 1 2 4 1 1 6 5 2 1 ...\n",
      " $ policy4_2019                  : Factor w/ 6 levels \"1\",\"2\",\"3\",\"4\",..: 1 1 1 5 1 1 1 2 1 1 ...\n",
      " $ policy5_2019                  : Factor w/ 6 levels \"1\",\"2\",\"3\",\"4\",..: 1 3 4 3 1 2 2 1 1 2 ...\n",
      " $ policy6_2019                  : Factor w/ 6 levels \"1\",\"2\",\"3\",\"4\",..: 1 2 2 2 1 1 1 1 1 1 ...\n",
      " $ sexism1_2019                  : Factor w/ 5 levels \"1\",\"2\",\"3\",\"4\",..: 4 4 4 4 4 4 4 4 4 4 ...\n",
      " $ sexism2_2019                  : Factor w/ 5 levels \"1\",\"2\",\"3\",\"4\",..: 4 3 1 3 4 4 4 4 4 4 ...\n",
      " $ sexism3_2019                  : Factor w/ 5 levels \"1\",\"2\",\"3\",\"4\",..: 3 2 4 2 1 1 1 2 1 1 ...\n",
      " $ sexism4_2019                  : Factor w/ 5 levels \"1\",\"2\",\"3\",\"4\",..: 4 4 1 1 4 4 4 4 4 4 ...\n",
      " $ sexism5_2019                  : Factor w/ 5 levels \"1\",\"2\",\"3\",\"4\",..: 4 3 2 4 4 4 5 4 4 4 ...\n",
      " $ sexism6_2019                  : Factor w/ 5 levels \"1\",\"2\",\"3\",\"4\",..: 1 1 4 1 2 3 1 1 2 1 ...\n",
      " $ follow_2019                   : Factor w/ 5 levels \"1\",\"2\",\"3\",\"4\",..: 2 2 1 1 2 2 1 1 1 1 ...\n",
      " $ alleg_2019                    : Factor w/ 3 levels \"1\",\"2\",\"8\": 2 2 1 2 2 2 2 2 2 2 ...\n",
      "  [list output truncated]\n",
      " - attr(*, \".internal.selfref\")=<externalptr> \n"
     ]
    }
   ],
   "source": [
    "col_names <- colnames(data)\n",
    "data <- data[, (col_names):= lapply(.SD, as.factor), .SDcols = col_names]\n",
    "str(data)\n"
   ]
  },
  {
   "cell_type": "code",
   "execution_count": 36,
   "metadata": {},
   "outputs": [
    {
     "name": "stdout",
     "output_type": "stream",
     "text": [
      "number of na's is now:  0 \n",
      "dimension of new dataset is now:  5896 152"
     ]
    }
   ],
   "source": [
    "cat(\"number of na's is now: \", sum(is.na(data)), \"\\n\")\n",
    "cat(\"dimension of new dataset is now: \", dim(data))"
   ]
  },
  {
   "cell_type": "code",
   "execution_count": 37,
   "metadata": {},
   "outputs": [],
   "source": [
    "data_dummy <- acm.disjonctif(data_new)"
   ]
  },
  {
   "cell_type": "code",
   "execution_count": null,
   "metadata": {},
   "outputs": [],
   "source": [
    "dat <- data_new[, colSums()]"
   ]
  },
  {
   "cell_type": "code",
   "execution_count": 38,
   "metadata": {},
   "outputs": [
    {
     "data": {
      "text/html": [
       "<table class=\"dataframe\">\n",
       "<caption>A data.frame: 6 × 5341</caption>\n",
       "<thead>\n",
       "\t<tr><th></th><th scope=col>vote2020_2019.1</th><th scope=col>vote2020_2019.2</th><th scope=col>add_confirm_2019.1</th><th scope=col>add_confirm_2019.2</th><th scope=col>add_confirm_2019.9</th><th scope=col>izip_2019.1001</th><th scope=col>izip_2019.1020</th><th scope=col>izip_2019.1027</th><th scope=col>izip_2019.1028</th><th scope=col>izip_2019.1035</th><th scope=col>⋯</th><th scope=col>follow_2019.4</th><th scope=col>follow_2019.8</th><th scope=col>alleg_2019.1</th><th scope=col>alleg_2019.2</th><th scope=col>alleg_2019.8</th><th scope=col>sexual_rep_2019.1</th><th scope=col>sexual_rep_2019.2</th><th scope=col>sexual_rep_2019.3</th><th scope=col>sexual_rep_2019.4</th><th scope=col>sexual_rep_2019.8</th></tr>\n",
       "\t<tr><th></th><th scope=col>&lt;dbl&gt;</th><th scope=col>&lt;dbl&gt;</th><th scope=col>&lt;dbl&gt;</th><th scope=col>&lt;dbl&gt;</th><th scope=col>&lt;dbl&gt;</th><th scope=col>&lt;dbl&gt;</th><th scope=col>&lt;dbl&gt;</th><th scope=col>&lt;dbl&gt;</th><th scope=col>&lt;dbl&gt;</th><th scope=col>&lt;dbl&gt;</th><th scope=col>⋯</th><th scope=col>&lt;dbl&gt;</th><th scope=col>&lt;dbl&gt;</th><th scope=col>&lt;dbl&gt;</th><th scope=col>&lt;dbl&gt;</th><th scope=col>&lt;dbl&gt;</th><th scope=col>&lt;dbl&gt;</th><th scope=col>&lt;dbl&gt;</th><th scope=col>&lt;dbl&gt;</th><th scope=col>&lt;dbl&gt;</th><th scope=col>&lt;dbl&gt;</th></tr>\n",
       "</thead>\n",
       "<tbody>\n",
       "\t<tr><th scope=row>1</th><td>0</td><td>1</td><td>1</td><td>0</td><td>0</td><td>0</td><td>0</td><td>0</td><td>0</td><td>0</td><td>⋯</td><td>0</td><td>0</td><td>0</td><td>1</td><td>0</td><td>0</td><td>0</td><td>0</td><td>1</td><td>0</td></tr>\n",
       "\t<tr><th scope=row>2</th><td>0</td><td>1</td><td>1</td><td>0</td><td>0</td><td>0</td><td>0</td><td>0</td><td>0</td><td>0</td><td>⋯</td><td>0</td><td>0</td><td>0</td><td>1</td><td>0</td><td>0</td><td>0</td><td>0</td><td>1</td><td>0</td></tr>\n",
       "\t<tr><th scope=row>3</th><td>0</td><td>1</td><td>1</td><td>0</td><td>0</td><td>0</td><td>0</td><td>0</td><td>0</td><td>0</td><td>⋯</td><td>0</td><td>0</td><td>1</td><td>0</td><td>0</td><td>0</td><td>0</td><td>1</td><td>0</td><td>0</td></tr>\n",
       "\t<tr><th scope=row>4</th><td>1</td><td>0</td><td>1</td><td>0</td><td>0</td><td>0</td><td>0</td><td>0</td><td>0</td><td>0</td><td>⋯</td><td>0</td><td>0</td><td>0</td><td>1</td><td>0</td><td>0</td><td>0</td><td>1</td><td>0</td><td>0</td></tr>\n",
       "\t<tr><th scope=row>5</th><td>0</td><td>1</td><td>1</td><td>0</td><td>0</td><td>0</td><td>0</td><td>0</td><td>0</td><td>0</td><td>⋯</td><td>0</td><td>0</td><td>0</td><td>1</td><td>0</td><td>0</td><td>0</td><td>0</td><td>1</td><td>0</td></tr>\n",
       "\t<tr><th scope=row>6</th><td>0</td><td>1</td><td>1</td><td>0</td><td>0</td><td>0</td><td>0</td><td>0</td><td>0</td><td>0</td><td>⋯</td><td>0</td><td>0</td><td>0</td><td>1</td><td>0</td><td>0</td><td>0</td><td>1</td><td>0</td><td>0</td></tr>\n",
       "</tbody>\n",
       "</table>\n"
      ],
      "text/latex": [
       "A data.frame: 6 × 5341\n",
       "\\begin{tabular}{r|lllllllllllllllllllll}\n",
       "  & vote2020\\_2019.1 & vote2020\\_2019.2 & add\\_confirm\\_2019.1 & add\\_confirm\\_2019.2 & add\\_confirm\\_2019.9 & izip\\_2019.1001 & izip\\_2019.1020 & izip\\_2019.1027 & izip\\_2019.1028 & izip\\_2019.1035 & ⋯ & follow\\_2019.4 & follow\\_2019.8 & alleg\\_2019.1 & alleg\\_2019.2 & alleg\\_2019.8 & sexual\\_rep\\_2019.1 & sexual\\_rep\\_2019.2 & sexual\\_rep\\_2019.3 & sexual\\_rep\\_2019.4 & sexual\\_rep\\_2019.8\\\\\n",
       "  & <dbl> & <dbl> & <dbl> & <dbl> & <dbl> & <dbl> & <dbl> & <dbl> & <dbl> & <dbl> & ⋯ & <dbl> & <dbl> & <dbl> & <dbl> & <dbl> & <dbl> & <dbl> & <dbl> & <dbl> & <dbl>\\\\\n",
       "\\hline\n",
       "\t1 & 0 & 1 & 1 & 0 & 0 & 0 & 0 & 0 & 0 & 0 & ⋯ & 0 & 0 & 0 & 1 & 0 & 0 & 0 & 0 & 1 & 0\\\\\n",
       "\t2 & 0 & 1 & 1 & 0 & 0 & 0 & 0 & 0 & 0 & 0 & ⋯ & 0 & 0 & 0 & 1 & 0 & 0 & 0 & 0 & 1 & 0\\\\\n",
       "\t3 & 0 & 1 & 1 & 0 & 0 & 0 & 0 & 0 & 0 & 0 & ⋯ & 0 & 0 & 1 & 0 & 0 & 0 & 0 & 1 & 0 & 0\\\\\n",
       "\t4 & 1 & 0 & 1 & 0 & 0 & 0 & 0 & 0 & 0 & 0 & ⋯ & 0 & 0 & 0 & 1 & 0 & 0 & 0 & 1 & 0 & 0\\\\\n",
       "\t5 & 0 & 1 & 1 & 0 & 0 & 0 & 0 & 0 & 0 & 0 & ⋯ & 0 & 0 & 0 & 1 & 0 & 0 & 0 & 0 & 1 & 0\\\\\n",
       "\t6 & 0 & 1 & 1 & 0 & 0 & 0 & 0 & 0 & 0 & 0 & ⋯ & 0 & 0 & 0 & 1 & 0 & 0 & 0 & 1 & 0 & 0\\\\\n",
       "\\end{tabular}\n"
      ],
      "text/markdown": [
       "\n",
       "A data.frame: 6 × 5341\n",
       "\n",
       "| <!--/--> | vote2020_2019.1 &lt;dbl&gt; | vote2020_2019.2 &lt;dbl&gt; | add_confirm_2019.1 &lt;dbl&gt; | add_confirm_2019.2 &lt;dbl&gt; | add_confirm_2019.9 &lt;dbl&gt; | izip_2019.1001 &lt;dbl&gt; | izip_2019.1020 &lt;dbl&gt; | izip_2019.1027 &lt;dbl&gt; | izip_2019.1028 &lt;dbl&gt; | izip_2019.1035 &lt;dbl&gt; | ⋯ ⋯ | follow_2019.4 &lt;dbl&gt; | follow_2019.8 &lt;dbl&gt; | alleg_2019.1 &lt;dbl&gt; | alleg_2019.2 &lt;dbl&gt; | alleg_2019.8 &lt;dbl&gt; | sexual_rep_2019.1 &lt;dbl&gt; | sexual_rep_2019.2 &lt;dbl&gt; | sexual_rep_2019.3 &lt;dbl&gt; | sexual_rep_2019.4 &lt;dbl&gt; | sexual_rep_2019.8 &lt;dbl&gt; |\n",
       "|---|---|---|---|---|---|---|---|---|---|---|---|---|---|---|---|---|---|---|---|---|---|\n",
       "| 1 | 0 | 1 | 1 | 0 | 0 | 0 | 0 | 0 | 0 | 0 | ⋯ | 0 | 0 | 0 | 1 | 0 | 0 | 0 | 0 | 1 | 0 |\n",
       "| 2 | 0 | 1 | 1 | 0 | 0 | 0 | 0 | 0 | 0 | 0 | ⋯ | 0 | 0 | 0 | 1 | 0 | 0 | 0 | 0 | 1 | 0 |\n",
       "| 3 | 0 | 1 | 1 | 0 | 0 | 0 | 0 | 0 | 0 | 0 | ⋯ | 0 | 0 | 1 | 0 | 0 | 0 | 0 | 1 | 0 | 0 |\n",
       "| 4 | 1 | 0 | 1 | 0 | 0 | 0 | 0 | 0 | 0 | 0 | ⋯ | 0 | 0 | 0 | 1 | 0 | 0 | 0 | 1 | 0 | 0 |\n",
       "| 5 | 0 | 1 | 1 | 0 | 0 | 0 | 0 | 0 | 0 | 0 | ⋯ | 0 | 0 | 0 | 1 | 0 | 0 | 0 | 0 | 1 | 0 |\n",
       "| 6 | 0 | 1 | 1 | 0 | 0 | 0 | 0 | 0 | 0 | 0 | ⋯ | 0 | 0 | 0 | 1 | 0 | 0 | 0 | 1 | 0 | 0 |\n",
       "\n"
      ],
      "text/plain": [
       "  vote2020_2019.1 vote2020_2019.2 add_confirm_2019.1 add_confirm_2019.2\n",
       "1 0               1               1                  0                 \n",
       "2 0               1               1                  0                 \n",
       "3 0               1               1                  0                 \n",
       "4 1               0               1                  0                 \n",
       "5 0               1               1                  0                 \n",
       "6 0               1               1                  0                 \n",
       "  add_confirm_2019.9 izip_2019.1001 izip_2019.1020 izip_2019.1027\n",
       "1 0                  0              0              0             \n",
       "2 0                  0              0              0             \n",
       "3 0                  0              0              0             \n",
       "4 0                  0              0              0             \n",
       "5 0                  0              0              0             \n",
       "6 0                  0              0              0             \n",
       "  izip_2019.1028 izip_2019.1035 ⋯ follow_2019.4 follow_2019.8 alleg_2019.1\n",
       "1 0              0              ⋯ 0             0             0           \n",
       "2 0              0              ⋯ 0             0             0           \n",
       "3 0              0              ⋯ 0             0             1           \n",
       "4 0              0              ⋯ 0             0             0           \n",
       "5 0              0              ⋯ 0             0             0           \n",
       "6 0              0              ⋯ 0             0             0           \n",
       "  alleg_2019.2 alleg_2019.8 sexual_rep_2019.1 sexual_rep_2019.2\n",
       "1 1            0            0                 0                \n",
       "2 1            0            0                 0                \n",
       "3 0            0            0                 0                \n",
       "4 1            0            0                 0                \n",
       "5 1            0            0                 0                \n",
       "6 1            0            0                 0                \n",
       "  sexual_rep_2019.3 sexual_rep_2019.4 sexual_rep_2019.8\n",
       "1 0                 1                 0                \n",
       "2 0                 1                 0                \n",
       "3 1                 0                 0                \n",
       "4 1                 0                 0                \n",
       "5 0                 1                 0                \n",
       "6 1                 0                 0                "
      ]
     },
     "metadata": {},
     "output_type": "display_data"
    },
    {
     "name": "stdout",
     "output_type": "stream",
     "text": [
      "dimension of data dummy: 5896 5341"
     ]
    }
   ],
   "source": [
    "head(data_dummy)\n",
    "cat(\"dimension of data dummy:\", dim(data_dummy))"
   ]
  },
  {
   "cell_type": "code",
   "execution_count": 33,
   "metadata": {},
   "outputs": [
    {
     "name": "stdout",
     "output_type": "stream",
     "text": [
      "Rows: 5,896\n",
      "Columns: 100\n",
      "$ vote2020_2019      \u001b[3m\u001b[38;5;246m<fct>\u001b[39m\u001b[23m 2, 2, 2, 1, 2, 2, 2, 2, 2, 2, 2, 2, 1, 2, 2, 1, 2,…\n",
      "$ add_confirm_2019   \u001b[3m\u001b[38;5;246m<fct>\u001b[39m\u001b[23m 1, 1, 1, 1, 1, 1, 1, 9, 1, 2, 1, 1, 1, 1, 1, 1, 9,…\n",
      "$ izip_2019          \u001b[3m\u001b[38;5;246m<fct>\u001b[39m\u001b[23m 94952, 54904, 74014, 78253, 94954, 40601, 5733, 32…\n",
      "$ votereg_2019       \u001b[3m\u001b[38;5;246m<fct>\u001b[39m\u001b[23m 1, 1, 1, 1, 1, 1, 1, 1, 1, 1, 1, 1, 1, 1, 1, 1, 1,…\n",
      "$ votereg_f_2019     \u001b[3m\u001b[38;5;246m<fct>\u001b[39m\u001b[23m 1, 1, 1, 1, 1, 1, 1, 1, 1, 1, 1, 1, 1, 1, 1, 1, 1,…\n",
      "$ regzip_2019        \u001b[3m\u001b[38;5;246m<fct>\u001b[39m\u001b[23m 999999, 999999, 999999, 999999, 999999, 999999, 99…\n",
      "$ region_2019        \u001b[3m\u001b[38;5;246m<fct>\u001b[39m\u001b[23m 4, 2, 3, 3, 4, 3, 1, 3, 4, 2, 4, 4, 3, 1, 4, 1, 3,…\n",
      "$ inst_court_2019    \u001b[3m\u001b[38;5;246m<fct>\u001b[39m\u001b[23m 3, 3, 4, 1, 3, 3, 3, 2, 3, 3, 3, 3, 2, 3, 1, 4, 2,…\n",
      "$ inst_media_2019    \u001b[3m\u001b[38;5;246m<fct>\u001b[39m\u001b[23m 1, 1, 1, 4, 2, 4, 4, 1, 1, 1, 2, 3, 4, 1, 3, 4, 3,…\n",
      "$ inst_congress_2019 \u001b[3m\u001b[38;5;246m<fct>\u001b[39m\u001b[23m 4, 4, 4, 3, 4, 4, 3, 3, 3, 4, 4, 8, 4, 4, 3, 4, 3,…\n",
      "$ inst_justice_2019  \u001b[3m\u001b[38;5;246m<fct>\u001b[39m\u001b[23m 3, 3, 2, 3, 3, 4, 3, 2, 2, 1, 3, 3, 3, 2, 3, 4, 2,…\n",
      "$ inst_FBI_2019      \u001b[3m\u001b[38;5;246m<fct>\u001b[39m\u001b[23m 2, 1, 2, 1, 3, 4, 3, 1, 1, 2, 3, 2, 3, 1, 2, 4, 1,…\n",
      "$ inst_military_2019 \u001b[3m\u001b[38;5;246m<fct>\u001b[39m\u001b[23m 2, 1, 1, 1, 3, 2, 3, 1, 2, 2, 3, 2, 1, 1, 4, 2, 1,…\n",
      "$ inst_church_2019   \u001b[3m\u001b[38;5;246m<fct>\u001b[39m\u001b[23m 4, 4, 4, 1, 4, 3, 4, 3, 4, 3, 4, 4, 3, 3, 4, 4, 3,…\n",
      "$ inst_business_2019 \u001b[3m\u001b[38;5;246m<fct>\u001b[39m\u001b[23m 4, 3, 4, 2, 4, 4, 4, 4, 3, 4, 4, 4, 3, 3, 3, 3, 4,…\n",
      "$ imiss_a_2019       \u001b[3m\u001b[38;5;246m<fct>\u001b[39m\u001b[23m 2, 1, 1, 1, 2, 1, 2, 2, 2, 2, 2, 3, 1, 2, 1, 1, 1,…\n",
      "$ imiss_b_2019       \u001b[3m\u001b[38;5;246m<fct>\u001b[39m\u001b[23m 2, 1, 1, 1, 2, 1, 1, 1, 2, 1, 2, 1, 1, 1, 1, 1, 1,…\n",
      "$ imiss_c_2019       \u001b[3m\u001b[38;5;246m<fct>\u001b[39m\u001b[23m 2, 1, 4, 1, 2, 1, 2, 3, 2, 1, 2, 4, 1, 2, 2, 1, 2,…\n",
      "$ imiss_d_2019       \u001b[3m\u001b[38;5;246m<fct>\u001b[39m\u001b[23m 1, 1, 2, 1, 1, 1, 1, 1, 2, 1, 1, 1, 2, 1, 3, 2, 1,…\n",
      "$ imiss_e_2019       \u001b[3m\u001b[38;5;246m<fct>\u001b[39m\u001b[23m 1, 2, 1, 1, 1, 2, 1, 2, 1, 1, 1, 4, 1, 3, 4, 1, 1,…\n",
      "$ imiss_f_2019       \u001b[3m\u001b[38;5;246m<fct>\u001b[39m\u001b[23m 2, 1, 2, 1, 2, 2, 2, 2, 2, 1, 3, 3, 2, 2, 1, 1, 2,…\n",
      "$ imiss_g_2019       \u001b[3m\u001b[38;5;246m<fct>\u001b[39m\u001b[23m 1, 2, 3, 2, 1, 4, 1, 1, 1, 1, 1, 2, 2, 2, 4, 4, 2,…\n",
      "$ imiss_h_2019       \u001b[3m\u001b[38;5;246m<fct>\u001b[39m\u001b[23m 1, 1, 2, 1, 2, 1, 1, 1, 1, 1, 1, 1, 3, 1, 4, 1, 3,…\n",
      "$ imiss_i_2019       \u001b[3m\u001b[38;5;246m<fct>\u001b[39m\u001b[23m 1, 2, 3, 2, 3, 3, 2, 1, 2, 2, 1, 2, 4, 2, 3, 4, 3,…\n",
      "$ imiss_j_2019       \u001b[3m\u001b[38;5;246m<fct>\u001b[39m\u001b[23m 1, 1, 1, 1, 1, 1, 1, 1, 1, 1, 1, 1, 3, 1, 1, 1, 1,…\n",
      "$ imiss_k_2019       \u001b[3m\u001b[38;5;246m<fct>\u001b[39m\u001b[23m 1, 1, 1, 2, 1, 1, 1, 1, 1, 1, 1, 1, 1, 2, 2, 3, 2,…\n",
      "$ imiss_l_2019       \u001b[3m\u001b[38;5;246m<fct>\u001b[39m\u001b[23m 1, 1, 2, 4, 1, 1, 1, 1, 2, 1, 1, 1, 3, 1, 4, 2, 2,…\n",
      "$ imiss_m_2019       \u001b[3m\u001b[38;5;246m<fct>\u001b[39m\u001b[23m 1, 1, 2, 1, 1, 1, 1, 1, 1, 1, 1, 1, 1, 1, 3, 3, 1,…\n",
      "$ imiss_n_2019       \u001b[3m\u001b[38;5;246m<fct>\u001b[39m\u001b[23m 1, 1, 2, 1, 2, 1, 1, 1, 1, 1, 1, 2, 1, 2, 2, 2, 2,…\n",
      "$ imiss_o_2019       \u001b[3m\u001b[38;5;246m<fct>\u001b[39m\u001b[23m 2, 1, 1, 1, 2, 1, 1, 1, 2, 1, 2, 3, 2, 2, 2, 1, 2,…\n",
      "$ imiss_p_2019       \u001b[3m\u001b[38;5;246m<fct>\u001b[39m\u001b[23m 1, 1, 2, 1, 3, 3, 2, 2, 2, 2, 3, 3, 1, 1, 2, 3, 3,…\n",
      "$ imiss_q_2019       \u001b[3m\u001b[38;5;246m<fct>\u001b[39m\u001b[23m 1, 1, 3, 1, 2, 1, 1, 1, 1, 1, 2, 2, 3, 1, 4, 3, 1,…\n",
      "$ imiss_r_2019       \u001b[3m\u001b[38;5;246m<fct>\u001b[39m\u001b[23m 2, 1, 2, 1, 2, 2, 2, 2, 2, 2, 2, 3, 1, 1, 3, 1, 1,…\n",
      "$ imiss_s_2019       \u001b[3m\u001b[38;5;246m<fct>\u001b[39m\u001b[23m 1, 1, 2, 1, 1, 1, 1, 1, 1, 1, 1, 1, 1, 1, 2, 3, 1,…\n",
      "$ imiss_t_2019       \u001b[3m\u001b[38;5;246m<fct>\u001b[39m\u001b[23m 3, 2, 4, 1, 1, 4, 1, 1, 1, 3, 1, 2, 3, 3, 1, 4, 2,…\n",
      "$ imiss_u_2019       \u001b[3m\u001b[38;5;246m<fct>\u001b[39m\u001b[23m 3, 1, 4, 1, 3, 1, 2, 3, 3, 3, 2, 3, 1, 3, 4, 1, 3,…\n",
      "$ imiss_x_2019       \u001b[3m\u001b[38;5;246m<fct>\u001b[39m\u001b[23m 1, 1, 2, 1, 1, 1, 1, 1, 1, 1, 1, 1, 4, 1, 3, 3, 1,…\n",
      "$ imiss_y_2019       \u001b[3m\u001b[38;5;246m<fct>\u001b[39m\u001b[23m 1, 1, 3, 2, 1, 3, 1, 1, 1, 1, 1, 1, 3, 2, 3, 4, 1,…\n",
      "$ track_2019         \u001b[3m\u001b[38;5;246m<fct>\u001b[39m\u001b[23m 2, 2, 2, 1, 2, 2, 2, 2, 2, 2, 2, 2, 1, 2, 2, 1, 1,…\n",
      "$ persfinretro_2019  \u001b[3m\u001b[38;5;246m<fct>\u001b[39m\u001b[23m 2, 3, 2, 1, 2, 2, 2, 2, 2, 3, 1, 3, 1, 2, 3, 2, 2,…\n",
      "$ econtrend_2019     \u001b[3m\u001b[38;5;246m<fct>\u001b[39m\u001b[23m 2, 3, 3, 1, 3, 2, 2, 3, 3, 3, 2, 3, 1, 2, 3, 1, 2,…\n",
      "$ lifetrend_2019     \u001b[3m\u001b[38;5;246m<fct>\u001b[39m\u001b[23m 2, 1, 3, 1, 1, 2, 3, 3, 2, 2, 1, 1, 3, 3, 3, 1, 2,…\n",
      "$ trustgovt_2019     \u001b[3m\u001b[38;5;246m<fct>\u001b[39m\u001b[23m 3, 3, 3, 3, 3, 3, 3, 3, 3, 3, 3, 3, 3, 3, 3, 3, 2,…\n",
      "$ emotion1_2019      \u001b[3m\u001b[38;5;246m<fct>\u001b[39m\u001b[23m 7, 7, 7, 5, 6, 6, 5, 6, 7, 5, 2, 6, 6, 6, 8, 7, 4,…\n",
      "$ emotion2_2019      \u001b[3m\u001b[38;5;246m<fct>\u001b[39m\u001b[23m 7, 7, 7, 5, 6, 5, 5, 6, 6, 7, 3, 5, 4, 5, 8, 7, 1,…\n",
      "$ emotion3_2019      \u001b[3m\u001b[38;5;246m<fct>\u001b[39m\u001b[23m 7, 7, 7, 6, 6, 6, 7, 7, 5, 5, 3, 7, 6, 6, 8, 6, 1,…\n",
      "$ emotion4_2019      \u001b[3m\u001b[38;5;246m<fct>\u001b[39m\u001b[23m 4, 7, 7, 6, 6, 7, 5, 6, 6, 6, 2, 7, 6, 5, 8, 5, 1,…\n",
      "$ emotion5_2019      \u001b[3m\u001b[38;5;246m<fct>\u001b[39m\u001b[23m 3, 7, 2, 4, 2, 4, 4, 3, 4, 4, 3, 5, 2, 4, 8, 5, 5,…\n",
      "$ emotion6_2019      \u001b[3m\u001b[38;5;246m<fct>\u001b[39m\u001b[23m 4, 7, 2, 5, 6, 1, 7, 1, 2, 2, 3, 4, 2, 1, 8, 6, 5,…\n",
      "$ taxdoug_2019       \u001b[3m\u001b[38;5;246m<fct>\u001b[39m\u001b[23m 1, 1, 1, 2, 1, 1, 1, 1, 1, 1, 1, 1, 2, 1, 3, 2, 1,…\n",
      "$ CR_touch_2019      \u001b[3m\u001b[38;5;246m<fct>\u001b[39m\u001b[23m 2, 4, 4, 4, 1, 4, 2, 4, 4, 4, 4, 2, 1, 2, 8, 4, 2,…\n",
      "$ CR_careA_2019      \u001b[3m\u001b[38;5;246m<fct>\u001b[39m\u001b[23m 1, 3, 4, 3, 1, 3, 1, 2, 3, 3, 2, 2, 1, 2, 8, 4, 1,…\n",
      "$ CR_careB_2019      \u001b[3m\u001b[38;5;246m<fct>\u001b[39m\u001b[23m 1, 1, 1, 1, 1, 1, 1, 1, 1, 1, 2, 2, 1, 2, 8, 1, 1,…\n",
      "$ CR_careC_2019      \u001b[3m\u001b[38;5;246m<fct>\u001b[39m\u001b[23m 1, 1, 1, 1, 1, 1, 2, 1, 1, 1, 1, 2, 1, 1, 8, 1, 2,…\n",
      "$ CR_careD_2019      \u001b[3m\u001b[38;5;246m<fct>\u001b[39m\u001b[23m 2, 3, 3, 3, 1, 4, 1, 4, 4, 3, 2, 2, 2, 2, 8, 4, 2,…\n",
      "$ CR_careE_2019      \u001b[3m\u001b[38;5;246m<fct>\u001b[39m\u001b[23m 2, 4, 2, 2, 1, 3, 1, 4, 3, 3, 1, 1, 2, 2, 8, 4, 2,…\n",
      "$ CR_careF_2019      \u001b[3m\u001b[38;5;246m<fct>\u001b[39m\u001b[23m 1, 1, 1, 1, 1, 1, 2, 1, 1, 1, 1, 1, 1, 1, 8, 1, 1,…\n",
      "$ CR_careG_2019      \u001b[3m\u001b[38;5;246m<fct>\u001b[39m\u001b[23m 1, 1, 1, 1, 1, 1, 1, 1, 2, 2, 1, 1, 1, 1, 8, 2, 1,…\n",
      "$ CR_careH_2019      \u001b[3m\u001b[38;5;246m<fct>\u001b[39m\u001b[23m 2, 4, 3, 3, 1, 4, 2, 4, 4, 3, 2, 2, 2, 3, 8, 4, 2,…\n",
      "$ supreme1_2019      \u001b[3m\u001b[38;5;246m<fct>\u001b[39m\u001b[23m 1, 1, 4, 4, 1, 2, 1, 2, 1, 2, 1, 1, 4, 3, 3, 2, 1,…\n",
      "$ supreme2_2019      \u001b[3m\u001b[38;5;246m<fct>\u001b[39m\u001b[23m 4, 3, 4, 4, 1, 4, 2, 3, 1, 2, 2, 1, 4, 3, 4, 4, 4,…\n",
      "$ bankrich_2019      \u001b[3m\u001b[38;5;246m<fct>\u001b[39m\u001b[23m 1000000, 500000, 500000, 2000000, 1000000, 5000000…\n",
      "$ imp_poor1_2019     \u001b[3m\u001b[38;5;246m<fct>\u001b[39m\u001b[23m 5, 2, 4, 3, 3, 5, 4, 3, 5, 4, 3, 3, 1, 3, 8, 1, 4,…\n",
      "$ imp_poor2_2019     \u001b[3m\u001b[38;5;246m<fct>\u001b[39m\u001b[23m 2, 1, 1, 4, 2, 1, 1, 2, 1, 1, 2, 1, 4, 2, 8, 5, 3,…\n",
      "$ imp_poor3_2019     \u001b[3m\u001b[38;5;246m<fct>\u001b[39m\u001b[23m 1, 2, 1, 3, 2, 2, 1, 1, 1, 2, 1, 2, 4, 3, 8, 4, 2,…\n",
      "$ imp_poor4_2019     \u001b[3m\u001b[38;5;246m<fct>\u001b[39m\u001b[23m 5, 4, 2, 2, 3, 4, 4, 4, 4, 3, 3, 1, 1, 2, 8, 1, 3,…\n",
      "$ imp_poor5_2019     \u001b[3m\u001b[38;5;246m<fct>\u001b[39m\u001b[23m 4, 3, 4, 2, 3, 4, 2, 3, 3, 3, 3, 1, 4, 3, 8, 4, 2,…\n",
      "$ imp_poor6_2019     \u001b[3m\u001b[38;5;246m<fct>\u001b[39m\u001b[23m 4, 1, 3, 2, 2, 5, 4, 2, 4, 2, 3, 2, 3, 3, 8, 2, 2,…\n",
      "$ imp_rich1_2019     \u001b[3m\u001b[38;5;246m<fct>\u001b[39m\u001b[23m 5, 2, 3, 1, 2, 3, 4, 1, 3, 3, 2, 3, 1, 2, 8, 3, 3,…\n",
      "$ imp_rich2_2019     \u001b[3m\u001b[38;5;246m<fct>\u001b[39m\u001b[23m 3, 2, 1, 5, 2, 2, 1, 1, 1, 2, 1, 1, 4, 2, 8, 5, 3,…\n",
      "$ imp_rich3_2019     \u001b[3m\u001b[38;5;246m<fct>\u001b[39m\u001b[23m 3, 1, 4, 3, 2, 1, 1, 1, 1, 1, 1, 1, 3, 2, 8, 2, 1,…\n",
      "$ imp_rich4_2019     \u001b[3m\u001b[38;5;246m<fct>\u001b[39m\u001b[23m 3, 2, 3, 4, 2, 2, 2, 1, 2, 4, 1, 2, 3, 4, 8, 4, 2,…\n",
      "$ imp_rich5_2019     \u001b[3m\u001b[38;5;246m<fct>\u001b[39m\u001b[23m 5, 1, 3, 2, 3, 4, 2, 2, 3, 2, 2, 1, 3, 2, 8, 3, 1,…\n",
      "$ imp_rich6_2019     \u001b[3m\u001b[38;5;246m<fct>\u001b[39m\u001b[23m 4, 2, 2, 1, 3, 3, 4, 2, 3, 2, 3, 4, 1, 2, 8, 3, 1,…\n",
      "$ wealth1_2019       \u001b[3m\u001b[38;5;246m<fct>\u001b[39m\u001b[23m 1, 1, 1, 2, 2, 1, 1, 1, 1, 1, 1, 1, 2, 2, 8, 2, 2,…\n",
      "$ wealth2_2019       \u001b[3m\u001b[38;5;246m<fct>\u001b[39m\u001b[23m 1, 1, 3, 3, 2, 2, 1, 1, 1, 1, 1, 1, 3, 3, 8, 1, 2,…\n",
      "$ wealth3_2019       \u001b[3m\u001b[38;5;246m<fct>\u001b[39m\u001b[23m 2, 2, 1, 4, 2, 1, 1, 2, 1, 2, 2, 1, 3, 3, 8, 2, 3,…\n",
      "$ wealth4_2019       \u001b[3m\u001b[38;5;246m<fct>\u001b[39m\u001b[23m 3, 2, 2, 1, 3, 3, 3, 2, 4, 4, 3, 3, 2, 2, 8, 1, 2,…\n",
      "$ wealth5_2019       \u001b[3m\u001b[38;5;246m<fct>\u001b[39m\u001b[23m 3, 2, 2, 1, 2, 2, 2, 2, 3, 3, 2, 3, 2, 3, 8, 2, 3,…\n",
      "$ wealth6_2019       \u001b[3m\u001b[38;5;246m<fct>\u001b[39m\u001b[23m 2, 1, 1, 1, 3, 3, 2, 2, 2, 2, 2, 3, 2, 3, 8, 1, 2,…\n",
      "$ corp_2019          \u001b[3m\u001b[38;5;246m<fct>\u001b[39m\u001b[23m 2, 2, 2, 1, 2, 2, 2, 1, 2, 2, 2, 2, 1, 1, 8, 1, 2,…\n",
      "$ corp_feel_2019     \u001b[3m\u001b[38;5;246m<fct>\u001b[39m\u001b[23m 2, 1, 1, 1, 1, 1, 1, 2, 1, 2, 1, 2, 1, 2, 8, 2, 1,…\n",
      "$ diff_inc_2019      \u001b[3m\u001b[38;5;246m<fct>\u001b[39m\u001b[23m 2, 1, 1, 5, 1, 2, 1, 4, 1, 2, 2, 1, 5, 2, 8, 5, 4,…\n",
      "$ econ_2019          \u001b[3m\u001b[38;5;246m<fct>\u001b[39m\u001b[23m 1, 1, 1, 1, 1, 1, 1, 1, 1, 1, 1, 1, 1, 1, 1, 1, 1,…\n",
      "$ econ_feel_2019     \u001b[3m\u001b[38;5;246m<fct>\u001b[39m\u001b[23m 1, 1, 1, 1, 2, 1, 1, 1, 1, 1, 1, 1, 1, 1, 1, 1, 1,…\n",
      "$ policy1_2019       \u001b[3m\u001b[38;5;246m<fct>\u001b[39m\u001b[23m 2, 1, 1, 3, 1, 1, 1, 3, 1, 1, 1, 1, 3, 2, 4, 4, 3,…\n",
      "$ policy2_2019       \u001b[3m\u001b[38;5;246m<fct>\u001b[39m\u001b[23m 5, 5, 5, 1, 4, 3, 5, 5, 5, 5, 4, 2, 1, 4, 3, 1, 4,…\n",
      "$ policy3_2019       \u001b[3m\u001b[38;5;246m<fct>\u001b[39m\u001b[23m 2, 1, 2, 4, 1, 1, 8, 5, 2, 1, 2, 1, 3, 2, 2, 2, 4,…\n",
      "$ policy4_2019       \u001b[3m\u001b[38;5;246m<fct>\u001b[39m\u001b[23m 1, 1, 1, 5, 1, 1, 1, 2, 1, 1, 1, 2, 5, 1, 2, 5, 1,…\n",
      "$ policy5_2019       \u001b[3m\u001b[38;5;246m<fct>\u001b[39m\u001b[23m 1, 3, 4, 3, 1, 2, 2, 1, 1, 2, 1, 2, 5, 2, 3, 5, 3,…\n",
      "$ policy6_2019       \u001b[3m\u001b[38;5;246m<fct>\u001b[39m\u001b[23m 1, 2, 2, 2, 1, 1, 1, 1, 1, 1, 1, 2, 1, 2, 3, 4, 2,…\n",
      "$ sexism1_2019       \u001b[3m\u001b[38;5;246m<fct>\u001b[39m\u001b[23m 4, 4, 4, 4, 4, 4, 4, 4, 4, 4, 4, 4, 3, 4, 3, 3, 4,…\n",
      "$ sexism2_2019       \u001b[3m\u001b[38;5;246m<fct>\u001b[39m\u001b[23m 4, 3, 1, 3, 4, 4, 4, 4, 4, 4, 4, 4, 1, 4, 4, 1, 4,…\n",
      "$ sexism3_2019       \u001b[3m\u001b[38;5;246m<fct>\u001b[39m\u001b[23m 3, 2, 4, 2, 1, 1, 1, 2, 1, 1, 1, 1, 4, 1, 4, 4, 2,…\n",
      "$ sexism4_2019       \u001b[3m\u001b[38;5;246m<fct>\u001b[39m\u001b[23m 4, 4, 1, 1, 4, 4, 4, 4, 4, 4, 4, 4, 2, 3, 3, 1, 4,…\n",
      "$ sexism5_2019       \u001b[3m\u001b[38;5;246m<fct>\u001b[39m\u001b[23m 4, 3, 2, 4, 4, 4, 8, 4, 4, 4, 3, 4, 3, 3, 4, 2, 4,…\n",
      "$ sexism6_2019       \u001b[3m\u001b[38;5;246m<fct>\u001b[39m\u001b[23m 1, 1, 4, 1, 2, 3, 1, 1, 2, 1, 2, 2, 2, 1, 1, 2, 1,…\n",
      "$ follow_2019        \u001b[3m\u001b[38;5;246m<fct>\u001b[39m\u001b[23m 2, 2, 1, 1, 2, 2, 1, 1, 1, 1, 2, 1, 4, 2, 3, 2, 3,…\n",
      "$ alleg_2019         \u001b[3m\u001b[38;5;246m<fct>\u001b[39m\u001b[23m 2, 2, 1, 2, 2, 2, 2, 2, 2, 2, 2, 2, 1, 2, 2, 1, 2,…\n",
      "$ sexual_rep_2019    \u001b[3m\u001b[38;5;246m<fct>\u001b[39m\u001b[23m 4, 4, 3, 3, 4, 3, 4, 4, 4, 3, 4, 4, 1, 4, 8, 2, 3,…\n"
     ]
    }
   ],
   "source": [
    "data_new <- data[,1:100]\n",
    "glimpse(data_new)"
   ]
  },
  {
   "cell_type": "code",
   "execution_count": null,
   "metadata": {},
   "outputs": [],
   "source": [
    "glm(formula = data_dummy[,1] ~ ., family = binomial(), data = data_dummy)"
   ]
  },
  {
   "cell_type": "markdown",
   "metadata": {},
   "source": [
    "# 2. "
   ]
  },
  {
   "cell_type": "code",
   "execution_count": 63,
   "metadata": {},
   "outputs": [],
   "source": [
    "set.seed(123)\n",
    "n <- nrow(data_new)\n",
    "p = ncol(data_new) - 1\n",
    "ind_train <- sample(x = 1:n, size = ceiling(0.8 * n))\n",
    "set_train <- data_new[ind_train,]\n",
    "ind_test <- setdiff(x = 1:n, ind_train)\n",
    "set_test <- data_new[ind_test,]"
   ]
  },
  {
   "cell_type": "code",
   "execution_count": null,
   "metadata": {},
   "outputs": [],
   "source": []
  }
 ],
 "metadata": {
  "kernelspec": {
   "display_name": "R",
   "language": "R",
   "name": "ir"
  },
  "language_info": {
   "codemirror_mode": "r",
   "file_extension": ".r",
   "mimetype": "text/x-r-source",
   "name": "R",
   "pygments_lexer": "r",
   "version": "3.6.3"
  }
 },
 "nbformat": 4,
 "nbformat_minor": 4
}
